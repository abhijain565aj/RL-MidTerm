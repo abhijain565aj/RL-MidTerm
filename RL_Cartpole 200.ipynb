{
 "cells": [
  {
   "cell_type": "markdown",
   "metadata": {},
   "source": [
    "Installing the required libraries\n",
    "Imported the required libraries, I first used the keras library till last but for larger epochs it was taking a lot of time, so on the last day I switched to pytorch as I had even used Pytorch before in my earlier project but since most of the resources provided were in Keras, I used the keras first."
   ]
  },
  {
   "cell_type": "code",
   "execution_count": 4,
   "metadata": {},
   "outputs": [],
   "source": [
    "import gym\n",
    "import numpy as np\n",
    "import random\n",
    "from collections import deque\n",
    "import os\n",
    "import torch\n",
    "import torch.nn as nn\n",
    "import torch.optim as optim\n",
    "import matplotlib.pyplot as plt"
   ]
  },
  {
   "cell_type": "code",
   "execution_count": 5,
   "metadata": {},
   "outputs": [],
   "source": [
    "# Create directories to save model output\n",
    "output_dir = 'model_output/cartpole1/'\n",
    "if not os.path.exists(output_dir):\n",
    "    os.makedirs(output_dir)\n",
    "with open(output_dir+\"scores.txt\", \"w\") as f:\n",
    "    f.write(\"\")"
   ]
  },
  {
   "cell_type": "markdown",
   "metadata": {},
   "source": [
    "At first, I tried the game breakdown - v4 but that didn't worked out. It gave me tough times in installation and debugging because the atari version of gym don't work with pythons >= 3.10. So, I tried to create conda environment and the different installations all messed up as google colab didn't worked with gym atari and doesn't support environment as usual so I switched back to the Cartpole - v1 game"
   ]
  },
  {
   "cell_type": "code",
   "execution_count": 6,
   "metadata": {},
   "outputs": [],
   "source": [
    "env = gym.make('CartPole-v1',render_mode=\"rgb_array\") # Create the environment for the cartpole"
   ]
  },
  {
   "cell_type": "code",
   "execution_count": 7,
   "metadata": {},
   "outputs": [],
   "source": [
    "# Hyperparameters\n",
    "learning_rate = 0.0005\n",
    "batch_size = 32\n",
    "n_episodes = 200\n",
    "deque_memory_size = 5000\n",
    "output_dir = 'model_output/cartpole1/'\n",
    "\n",
    "epsilon = 1.0\n",
    "epsilon_decay = 0.99\n",
    "epsilon_min = 0.01\n",
    "gamma = 0.999  # discount factor\n",
    "\n",
    "# Environment variables\n",
    "# 4 = cart position, cart velocity, pole angle, pole velocity at the tip\n",
    "state_size = env.observation_space.shape[0]\n",
    "action_size = env.action_space.n  # two actions: left and right"
   ]
  },
  {
   "cell_type": "markdown",
   "metadata": {},
   "source": [
    "4-layer architecture:\n",
    "Input layer  = 4 neurons (State-Size)\n",
    "Hidden Layer 1 = 32 neurons\n",
    "Hidden Layer 2 = 32 neurons\n",
    "Actions = 2 neurons (2-actions : 0 and 1)"
   ]
  },
  {
   "cell_type": "code",
   "execution_count": 8,
   "metadata": {},
   "outputs": [],
   "source": [
    "# Define the DQN model\n",
    "class DQN(nn.Module):\n",
    "    def __init__(self):\n",
    "        super(DQN, self).__init__()\n",
    "        self.fc1 = nn.Linear(state_size, 32)\n",
    "        self.fc2 = nn.Linear(32, 32)\n",
    "        self.fc3 = nn.Linear(32, action_size)\n",
    "\n",
    "    def forward(self, x):\n",
    "        x = torch.relu(self.fc1(x))\n",
    "        x = torch.relu(self.fc2(x))\n",
    "        x = self.fc3(x)\n",
    "        return x"
   ]
  },
  {
   "cell_type": "code",
   "execution_count": 9,
   "metadata": {},
   "outputs": [],
   "source": [
    "class DQNAgent:\n",
    "    def __init__(self):\n",
    "        self.model = DQN()\n",
    "        self.target_model = DQN()\n",
    "        self.optimizer = optim.Adam(self.model.parameters(), lr=learning_rate)\n",
    "        self.loss_fn = nn.MSELoss()\n",
    "        self.memory = deque(maxlen=deque_memory_size)\n",
    "        self.epsilon = epsilon\n",
    "        self.epsilon_decay = epsilon_decay\n",
    "        self.epsilon_min = epsilon_min\n",
    "        self.gamma = gamma\n",
    "\n",
    "    def act(self, state, explore=True):\n",
    "        if explore and np.random.rand() <= self.epsilon: #if explore is true, and random value less than epsilon, return random action\n",
    "            return random.randrange(action_size)\n",
    "        state = torch.FloatTensor(state) \n",
    "        with torch.no_grad():\n",
    "            q_values = self.model(state)\n",
    "        return np.argmax(q_values.numpy())\n",
    "\n",
    "    def remember(self, state, action, reward, next_state, done): #remember the state, action, reward, next state, and done\n",
    "        self.memory.append((state, action, reward, next_state, done))\n",
    "\n",
    "    def replay(self, batch_size): #replay the memory\n",
    "        if len(self.memory) < batch_size: #if memory is less than batch size,\n",
    "            return\n",
    "        minibatch = random.sample(self.memory, batch_size) #randomly sample the memory\n",
    "        for state, action, reward, next_state, done in minibatch:\n",
    "            state = torch.FloatTensor(state)\n",
    "            next_state = torch.FloatTensor(next_state)\n",
    "            \n",
    "            # Update the Q-value\n",
    "            target = reward\n",
    "            \n",
    "            # If the episode is not done, update the target value using Bellman equation\n",
    "            if not done:\n",
    "                target = (reward + self.gamma * torch.max(self.target_model(next_state)).item())\n",
    "\n",
    "            target_f = self.model(state)\n",
    "            target_f = target_f.clone()\n",
    "            target_f[0][action] = target\n",
    "            \n",
    "            self.optimizer.zero_grad()\n",
    "            output = self.model(state)\n",
    "            loss = self.loss_fn(output, target_f)\n",
    "            loss.backward()\n",
    "            self.optimizer.step()\n",
    "\n",
    "    def update_target_model(self): #update the target model\n",
    "        self.target_model.load_state_dict(self.model.state_dict())\n",
    "\n",
    "    def save(self, name): #save the model\n",
    "        torch.save(self.model.state_dict(), name)\n",
    "        \n",
    "    def load(self, name): #load the model - trained weights\n",
    "        self.model.load_state_dict(torch.load(name))\n",
    "        self.target_model.load_state_dict(torch.load(name))"
   ]
  },
  {
   "cell_type": "code",
   "execution_count": 7,
   "metadata": {},
   "outputs": [
    {
     "name": "stderr",
     "output_type": "stream",
     "text": [
      "c:\\Users\\abhij\\AppData\\Local\\Programs\\Python\\Python312\\Lib\\site-packages\\gym\\utils\\passive_env_checker.py:233: DeprecationWarning: `np.bool8` is a deprecated alias for `np.bool_`.  (Deprecated NumPy 1.24)\n",
      "  if not isinstance(terminated, (bool, np.bool8)):\n"
     ]
    },
    {
     "name": "stdout",
     "output_type": "stream",
     "text": [
      "Episode: 0/200, Score: 9.0, Epsilon: 1.0\n",
      "Episode: 1/200, Score: 13.0, Epsilon: 0.99\n",
      "Episode: 2/200, Score: 39.0, Epsilon: 0.98\n",
      "Episode: 3/200, Score: 30.0, Epsilon: 0.97\n",
      "Episode: 4/200, Score: 35.0, Epsilon: 0.96\n",
      "Episode: 5/200, Score: 59.0, Epsilon: 0.95\n",
      "Episode: 6/200, Score: 26.0, Epsilon: 0.94\n",
      "Episode: 7/200, Score: 35.0, Epsilon: 0.93\n",
      "Episode: 8/200, Score: 24.0, Epsilon: 0.92\n",
      "Episode: 9/200, Score: 31.0, Epsilon: 0.91\n",
      "Episode: 10/200, Score: 15.0, Epsilon: 0.9\n",
      "Episode: 11/200, Score: 14.0, Epsilon: 0.9\n",
      "Episode: 12/200, Score: 39.0, Epsilon: 0.89\n",
      "Episode: 13/200, Score: 29.0, Epsilon: 0.88\n",
      "Episode: 14/200, Score: 23.0, Epsilon: 0.87\n",
      "Episode: 15/200, Score: 16.0, Epsilon: 0.86\n",
      "Episode: 16/200, Score: 21.0, Epsilon: 0.85\n",
      "Episode: 17/200, Score: 32.0, Epsilon: 0.84\n",
      "Episode: 18/200, Score: 16.0, Epsilon: 0.83\n",
      "Episode: 19/200, Score: 18.0, Epsilon: 0.83\n",
      "Episode: 20/200, Score: 27.0, Epsilon: 0.82\n",
      "Episode: 21/200, Score: 11.0, Epsilon: 0.81\n",
      "Episode: 22/200, Score: 16.0, Epsilon: 0.8\n",
      "Episode: 23/200, Score: 35.0, Epsilon: 0.79\n",
      "Episode: 24/200, Score: 13.0, Epsilon: 0.79\n",
      "Episode: 25/200, Score: 32.0, Epsilon: 0.78\n",
      "Episode: 26/200, Score: 24.0, Epsilon: 0.77\n",
      "Episode: 27/200, Score: 51.0, Epsilon: 0.76\n",
      "Episode: 28/200, Score: 17.0, Epsilon: 0.75\n",
      "Episode: 29/200, Score: 27.0, Epsilon: 0.75\n",
      "Episode: 30/200, Score: 45.0, Epsilon: 0.74\n",
      "Episode: 31/200, Score: 22.0, Epsilon: 0.73\n",
      "Episode: 32/200, Score: 34.0, Epsilon: 0.72\n",
      "Episode: 33/200, Score: 22.0, Epsilon: 0.72\n",
      "Episode: 34/200, Score: 18.0, Epsilon: 0.71\n",
      "Episode: 35/200, Score: 100.0, Epsilon: 0.7\n",
      "Episode: 36/200, Score: 18.0, Epsilon: 0.7\n",
      "Episode: 37/200, Score: 64.0, Epsilon: 0.69\n",
      "Episode: 38/200, Score: 37.0, Epsilon: 0.68\n",
      "Episode: 39/200, Score: 54.0, Epsilon: 0.68\n",
      "Episode: 40/200, Score: 30.0, Epsilon: 0.67\n",
      "Episode: 41/200, Score: 12.0, Epsilon: 0.66\n",
      "Episode: 42/200, Score: 67.0, Epsilon: 0.66\n",
      "Episode: 43/200, Score: 106.0, Epsilon: 0.65\n",
      "Episode: 44/200, Score: 29.0, Epsilon: 0.64\n",
      "Episode: 45/200, Score: 48.0, Epsilon: 0.64\n",
      "Episode: 46/200, Score: 30.0, Epsilon: 0.63\n",
      "Episode: 47/200, Score: 67.0, Epsilon: 0.62\n",
      "Episode: 48/200, Score: 97.0, Epsilon: 0.62\n",
      "Episode: 49/200, Score: 73.0, Epsilon: 0.61\n",
      "Episode: 50/200, Score: 47.0, Epsilon: 0.61\n",
      "Episode: 51/200, Score: 146.0, Epsilon: 0.6\n",
      "Episode: 52/200, Score: 71.0, Epsilon: 0.59\n",
      "Episode: 53/200, Score: 22.0, Epsilon: 0.59\n",
      "Episode: 54/200, Score: 166.0, Epsilon: 0.58\n",
      "Episode: 55/200, Score: 20.0, Epsilon: 0.58\n",
      "Episode: 56/200, Score: 108.0, Epsilon: 0.57\n",
      "Episode: 57/200, Score: 150.0, Epsilon: 0.56\n",
      "Episode: 58/200, Score: 58.0, Epsilon: 0.56\n",
      "Episode: 59/200, Score: 175.0, Epsilon: 0.55\n",
      "Episode: 60/200, Score: 33.0, Epsilon: 0.55\n",
      "Episode: 61/200, Score: 219.0, Epsilon: 0.54\n",
      "Episode: 62/200, Score: 156.0, Epsilon: 0.54\n",
      "Episode: 63/200, Score: 64.0, Epsilon: 0.53\n",
      "Episode: 64/200, Score: 63.0, Epsilon: 0.53\n",
      "Episode: 65/200, Score: 88.0, Epsilon: 0.52\n",
      "Episode: 66/200, Score: 262.0, Epsilon: 0.52\n",
      "Episode: 67/200, Score: 89.0, Epsilon: 0.51\n",
      "Episode: 68/200, Score: 62.0, Epsilon: 0.5\n",
      "Episode: 69/200, Score: 134.0, Epsilon: 0.5\n",
      "Episode: 70/200, Score: 137.0, Epsilon: 0.49\n",
      "Episode: 71/200, Score: 31.0, Epsilon: 0.49\n",
      "Episode: 72/200, Score: 155.0, Epsilon: 0.48\n",
      "Episode: 73/200, Score: 33.0, Epsilon: 0.48\n",
      "Episode: 74/200, Score: 78.0, Epsilon: 0.48\n",
      "Episode: 75/200, Score: 165.0, Epsilon: 0.47\n",
      "Episode: 76/200, Score: 142.0, Epsilon: 0.47\n",
      "Episode: 77/200, Score: 14.0, Epsilon: 0.46\n",
      "Episode: 78/200, Score: 97.0, Epsilon: 0.46\n",
      "Episode: 79/200, Score: 127.0, Epsilon: 0.45\n",
      "Episode: 80/200, Score: 25.0, Epsilon: 0.45\n",
      "Episode: 81/200, Score: 11.0, Epsilon: 0.44\n",
      "Episode: 82/200, Score: 190.0, Epsilon: 0.44\n",
      "Episode: 83/200, Score: 11.0, Epsilon: 0.43\n",
      "Episode: 84/200, Score: 163.0, Epsilon: 0.43\n",
      "Episode: 85/200, Score: 130.0, Epsilon: 0.43\n",
      "Episode: 86/200, Score: 63.0, Epsilon: 0.42\n",
      "Episode: 87/200, Score: 109.0, Epsilon: 0.42\n",
      "Episode: 88/200, Score: 213.0, Epsilon: 0.41\n",
      "Episode: 89/200, Score: 155.0, Epsilon: 0.41\n",
      "Episode: 90/200, Score: 141.0, Epsilon: 0.4\n",
      "Episode: 91/200, Score: 155.0, Epsilon: 0.4\n",
      "Episode: 92/200, Score: 212.0, Epsilon: 0.4\n",
      "Episode: 93/200, Score: 178.0, Epsilon: 0.39\n",
      "Episode: 94/200, Score: 26.0, Epsilon: 0.39\n",
      "Episode: 95/200, Score: 196.0, Epsilon: 0.38\n",
      "Episode: 96/200, Score: 145.0, Epsilon: 0.38\n",
      "Episode: 97/200, Score: 141.0, Epsilon: 0.38\n",
      "Episode: 98/200, Score: 78.0, Epsilon: 0.37\n",
      "Episode: 99/200, Score: 160.0, Epsilon: 0.37\n",
      "Episode: 100/200, Score: 136.0, Epsilon: 0.37\n",
      "Episode: 101/200, Score: 168.0, Epsilon: 0.36\n",
      "Episode: 102/200, Score: 110.0, Epsilon: 0.36\n",
      "Episode: 103/200, Score: 199.0, Epsilon: 0.36\n",
      "Episode: 104/200, Score: 478.0, Epsilon: 0.35\n",
      "Episode: 105/200, Score: 251.0, Epsilon: 0.35\n",
      "Episode: 106/200, Score: 203.0, Epsilon: 0.34\n",
      "Episode: 107/200, Score: 162.0, Epsilon: 0.34\n",
      "Episode: 108/200, Score: 158.0, Epsilon: 0.34\n",
      "Episode: 109/200, Score: 130.0, Epsilon: 0.33\n",
      "Episode: 110/200, Score: 154.0, Epsilon: 0.33\n",
      "Episode: 111/200, Score: 84.0, Epsilon: 0.33\n",
      "Episode: 112/200, Score: 92.0, Epsilon: 0.32\n",
      "Episode: 113/200, Score: 117.0, Epsilon: 0.32\n",
      "Episode: 114/200, Score: 13.0, Epsilon: 0.32\n",
      "Episode: 115/200, Score: 14.0, Epsilon: 0.31\n",
      "Episode: 116/200, Score: 22.0, Epsilon: 0.31\n",
      "Episode: 117/200, Score: 125.0, Epsilon: 0.31\n",
      "Episode: 118/200, Score: 116.0, Epsilon: 0.31\n",
      "Episode: 119/200, Score: 121.0, Epsilon: 0.3\n",
      "Episode: 120/200, Score: 14.0, Epsilon: 0.3\n",
      "Episode: 121/200, Score: 160.0, Epsilon: 0.3\n",
      "Episode: 122/200, Score: 115.0, Epsilon: 0.29\n",
      "Episode: 123/200, Score: 140.0, Epsilon: 0.29\n",
      "Episode: 124/200, Score: 25.0, Epsilon: 0.29\n",
      "Episode: 125/200, Score: 131.0, Epsilon: 0.28\n",
      "Episode: 126/200, Score: 130.0, Epsilon: 0.28\n",
      "Episode: 127/200, Score: 118.0, Epsilon: 0.28\n",
      "Episode: 128/200, Score: 118.0, Epsilon: 0.28\n",
      "Episode: 129/200, Score: 125.0, Epsilon: 0.27\n",
      "Episode: 130/200, Score: 135.0, Epsilon: 0.27\n",
      "Episode: 131/200, Score: 95.0, Epsilon: 0.27\n",
      "Episode: 132/200, Score: 131.0, Epsilon: 0.27\n",
      "Episode: 133/200, Score: 17.0, Epsilon: 0.26\n",
      "Episode: 134/200, Score: 140.0, Epsilon: 0.26\n",
      "Episode: 135/200, Score: 156.0, Epsilon: 0.26\n",
      "Episode: 136/200, Score: 12.0, Epsilon: 0.25\n",
      "Episode: 137/200, Score: 168.0, Epsilon: 0.25\n",
      "Episode: 138/200, Score: 162.0, Epsilon: 0.25\n",
      "Episode: 139/200, Score: 159.0, Epsilon: 0.25\n",
      "Episode: 140/200, Score: 165.0, Epsilon: 0.24\n",
      "Episode: 141/200, Score: 217.0, Epsilon: 0.24\n",
      "Episode: 142/200, Score: 208.0, Epsilon: 0.24\n",
      "Episode: 143/200, Score: 700.0, Epsilon: 0.24\n",
      "Episode: 144/200, Score: 700.0, Epsilon: 0.24\n",
      "Episode: 145/200, Score: 700.0, Epsilon: 0.23\n",
      "Episode: 146/200, Score: 700.0, Epsilon: 0.23\n",
      "Episode: 147/200, Score: 700.0, Epsilon: 0.23\n",
      "Episode: 148/200, Score: 700.0, Epsilon: 0.23\n",
      "Episode: 149/200, Score: 700.0, Epsilon: 0.22\n",
      "Episode: 150/200, Score: 538.0, Epsilon: 0.22\n",
      "Episode: 151/200, Score: 529.0, Epsilon: 0.22\n",
      "Episode: 152/200, Score: 17.0, Epsilon: 0.22\n",
      "Episode: 153/200, Score: 700.0, Epsilon: 0.21\n",
      "Episode: 154/200, Score: 700.0, Epsilon: 0.21\n",
      "Episode: 155/200, Score: 674.0, Epsilon: 0.21\n",
      "Episode: 156/200, Score: 700.0, Epsilon: 0.21\n",
      "Episode: 157/200, Score: 700.0, Epsilon: 0.21\n",
      "Episode: 158/200, Score: 174.0, Epsilon: 0.2\n",
      "Episode: 159/200, Score: 280.0, Epsilon: 0.2\n",
      "Episode: 160/200, Score: 700.0, Epsilon: 0.2\n",
      "Episode: 161/200, Score: 700.0, Epsilon: 0.2\n",
      "Episode: 162/200, Score: 700.0, Epsilon: 0.2\n",
      "Episode: 163/200, Score: 700.0, Epsilon: 0.19\n",
      "Episode: 164/200, Score: 700.0, Epsilon: 0.19\n",
      "Episode: 165/200, Score: 700.0, Epsilon: 0.19\n",
      "Episode: 166/200, Score: 700.0, Epsilon: 0.19\n",
      "Episode: 167/200, Score: 533.0, Epsilon: 0.19\n",
      "Episode: 168/200, Score: 30.0, Epsilon: 0.18\n",
      "Episode: 169/200, Score: 16.0, Epsilon: 0.18\n",
      "Episode: 170/200, Score: 185.0, Epsilon: 0.18\n",
      "Episode: 171/200, Score: 664.0, Epsilon: 0.18\n",
      "Episode: 172/200, Score: 12.0, Epsilon: 0.18\n",
      "Episode: 173/200, Score: 160.0, Epsilon: 0.18\n",
      "Episode: 174/200, Score: 327.0, Epsilon: 0.17\n",
      "Episode: 175/200, Score: 454.0, Epsilon: 0.17\n",
      "Episode: 176/200, Score: 700.0, Epsilon: 0.17\n",
      "Episode: 177/200, Score: 700.0, Epsilon: 0.17\n",
      "Episode: 178/200, Score: 700.0, Epsilon: 0.17\n",
      "Episode: 179/200, Score: 700.0, Epsilon: 0.17\n",
      "Episode: 180/200, Score: 700.0, Epsilon: 0.16\n",
      "Episode: 181/200, Score: 700.0, Epsilon: 0.16\n",
      "Episode: 182/200, Score: 124.0, Epsilon: 0.16\n",
      "Episode: 183/200, Score: 83.0, Epsilon: 0.16\n",
      "Episode: 184/200, Score: 107.0, Epsilon: 0.16\n",
      "Episode: 185/200, Score: 196.0, Epsilon: 0.16\n",
      "Episode: 186/200, Score: 18.0, Epsilon: 0.15\n",
      "Episode: 187/200, Score: 118.0, Epsilon: 0.15\n",
      "Episode: 188/200, Score: 102.0, Epsilon: 0.15\n",
      "Episode: 189/200, Score: 139.0, Epsilon: 0.15\n",
      "Episode: 190/200, Score: 188.0, Epsilon: 0.15\n",
      "Episode: 191/200, Score: 210.0, Epsilon: 0.15\n",
      "Episode: 192/200, Score: 201.0, Epsilon: 0.15\n",
      "Episode: 193/200, Score: 280.0, Epsilon: 0.14\n",
      "Episode: 194/200, Score: 700.0, Epsilon: 0.14\n",
      "Episode: 195/200, Score: 112.0, Epsilon: 0.14\n",
      "Episode: 196/200, Score: 190.0, Epsilon: 0.14\n",
      "Episode: 197/200, Score: 700.0, Epsilon: 0.14\n",
      "Episode: 198/200, Score: 700.0, Epsilon: 0.14\n",
      "Episode: 199/200, Score: 700.0, Epsilon: 0.14\n"
     ]
    }
   ],
   "source": [
    "# Train the agent\n",
    "agent = DQNAgent()\n",
    "done = False\n",
    "scores = []  # store the scores\n",
    "\n",
    "for e in range(n_episodes):\n",
    "    state = env.reset()\n",
    "    if isinstance(state, tuple):\n",
    "        state = np.array(state[0]).reshape([1, state_size])\n",
    "        # print(state)\n",
    "    done = False\n",
    "    tReward = 0\n",
    "    while not done:\n",
    "        # env.render()\n",
    "        action = agent.act(state)\n",
    "        step_action = env.step(action)\n",
    "\n",
    "        next_state = np.array(step_action[0]).reshape([1, state_size])\n",
    "        reward = step_action[1]\n",
    "        done = step_action[2]\n",
    "\n",
    "        agent.remember(state, action, reward, next_state, done)\n",
    "        state = next_state\n",
    "\n",
    "        tReward += reward\n",
    "        agent.replay(batch_size)\n",
    "        \n",
    "        if tReward >= 700: #if the reward is greater than 700, break the loop\n",
    "            done = True\n",
    "\n",
    "    agent.update_target_model()\n",
    "    scores.append(tReward)\n",
    "    print(f\"Episode: {e}/{n_episodes}, Score: {tReward}, Epsilon: {agent.epsilon:.2}\")\n",
    "    # appending the score in a file\n",
    "    with open(output_dir+'scores.txt', 'a') as file:\n",
    "        file.write(\n",
    "            f\"Episode: {e}/{n_episodes}, Score: {tReward}, Epsilon: {agent.epsilon:.2}\\n\")\n",
    "    if agent.epsilon > agent.epsilon_min:\n",
    "        agent.epsilon *= agent.epsilon_decay\n",
    "    if (e+1) % 50 == 0:\n",
    "        agent.save(output_dir + f'model-{e+1}.weights.pth')"
   ]
  },
  {
   "cell_type": "code",
   "execution_count": 8,
   "metadata": {},
   "outputs": [
    {
     "name": "stdout",
     "output_type": "stream",
     "text": [
      "[9.0, 13.0, 39.0, 30.0, 35.0, 59.0, 26.0, 35.0, 24.0, 31.0, 15.0, 14.0, 39.0, 29.0, 23.0, 16.0, 21.0, 32.0, 16.0, 18.0, 27.0, 11.0, 16.0, 35.0, 13.0, 32.0, 24.0, 51.0, 17.0, 27.0, 45.0, 22.0, 34.0, 22.0, 18.0, 100.0, 18.0, 64.0, 37.0, 54.0, 30.0, 12.0, 67.0, 106.0, 29.0, 48.0, 30.0, 67.0, 97.0, 73.0, 47.0, 146.0, 71.0, 22.0, 166.0, 20.0, 108.0, 150.0, 58.0, 175.0, 33.0, 219.0, 156.0, 64.0, 63.0, 88.0, 262.0, 89.0, 62.0, 134.0, 137.0, 31.0, 155.0, 33.0, 78.0, 165.0, 142.0, 14.0, 97.0, 127.0, 25.0, 11.0, 190.0, 11.0, 163.0, 130.0, 63.0, 109.0, 213.0, 155.0, 141.0, 155.0, 212.0, 178.0, 26.0, 196.0, 145.0, 141.0, 78.0, 160.0, 136.0, 168.0, 110.0, 199.0, 478.0, 251.0, 203.0, 162.0, 158.0, 130.0, 154.0, 84.0, 92.0, 117.0, 13.0, 14.0, 22.0, 125.0, 116.0, 121.0, 14.0, 160.0, 115.0, 140.0, 25.0, 131.0, 130.0, 118.0, 118.0, 125.0, 135.0, 95.0, 131.0, 17.0, 140.0, 156.0, 12.0, 168.0, 162.0, 159.0, 165.0, 217.0, 208.0, 700.0, 700.0, 700.0, 700.0, 700.0, 700.0, 700.0, 538.0, 529.0, 17.0, 700.0, 700.0, 674.0, 700.0, 700.0, 174.0, 280.0, 700.0, 700.0, 700.0, 700.0, 700.0, 700.0, 700.0, 533.0, 30.0, 16.0, 185.0, 664.0, 12.0, 160.0, 327.0, 454.0, 700.0, 700.0, 700.0, 700.0, 700.0, 700.0, 124.0, 83.0, 107.0, 196.0, 18.0, 118.0, 102.0, 139.0, 188.0, 210.0, 201.0, 280.0, 700.0, 112.0, 190.0, 700.0, 700.0, 700.0]\n"
     ]
    },
    {
     "data": {
      "image/png": "[encoded data removed]",
      "text/plain": [
       "<Figure size 640x480 with 1 Axes>"
      ]
     },
     "metadata": {},
     "output_type": "display_data"
    },
    {
     "data": {
      "text/plain": [
       "<Figure size 640x480 with 0 Axes>"
      ]
     },
     "metadata": {},
     "output_type": "display_data"
    }
   ],
   "source": [
    "# Print scores\n",
    "print(scores)\n",
    "# Plotting the total rewards\n",
    "plt.plot(scores)\n",
    "plt.ylabel('Total Rewards in each episode')\n",
    "plt.xlabel('Episode #')\n",
    "plt.show()\n",
    "plt.savefig('cartpole_rewards.png')"
   ]
  },
  {
   "cell_type": "code",
   "execution_count": 16,
   "metadata": {},
   "outputs": [
    {
     "data": {
      "image/png": "[encoded data removed]",
      "text/plain": [
       "<Figure size 640x480 with 1 Axes>"
      ]
     },
     "metadata": {},
     "output_type": "display_data"
    }
   ],
   "source": [
    "# Calculate moving average for the best-fit line\n",
    "def moving_average(data, window_size):\n",
    "    return np.convolve(data, np.ones(window_size)/window_size, mode='valid')\n",
    "\n",
    "\n",
    "# Plotting the total rewards\n",
    "plt.plot(moving_average(scores, 20), label='Moving Average (window=20)', linestyle='--')\n",
    "plt.ylabel('Total Rewards in each episode')\n",
    "plt.xlabel('Episode #')\n",
    "plt.legend()\n",
    "plt.show()"
   ]
  },
  {
   "cell_type": "code",
   "execution_count": 10,
   "metadata": {},
   "outputs": [],
   "source": [
    "training_epsilon = 0\n",
    "\n",
    "def evaluate_agent(agent, env, n_episodes=10):\n",
    "    agent.epsilon = training_epsilon\n",
    "    total_rewards = []\n",
    "    for e in range(n_episodes):\n",
    "        state = env.reset()\n",
    "        if isinstance(state, tuple):\n",
    "            state = np.array(state[0]).reshape([1, state_size])\n",
    "        done = False\n",
    "        tReward = 0\n",
    "        while not done:\n",
    "            action = agent.act(state)\n",
    "            step_action = env.step(action)\n",
    "\n",
    "            next_state = np.array(step_action[0]).reshape([1, state_size])\n",
    "            reward = step_action[1]\n",
    "            done = step_action[2]\n",
    "\n",
    "            state = next_state\n",
    "            tReward += reward\n",
    "            if(tReward >= 700):\n",
    "                done = True\n",
    "        \n",
    "        total_rewards.append(tReward)\n",
    "        print(f\"Episode: {e+1}/{n_episodes}, Score: {tReward}\")\n",
    "\n",
    "    avg_reward = np.mean(total_rewards)\n",
    "    print(f\"Average Reward over {n_episodes} episodes: {avg_reward}\")\n",
    "    return total_rewards, avg_reward\n",
    "\n",
    "agent = DQNAgent()"
   ]
  },
  {
   "cell_type": "code",
   "execution_count": 11,
   "metadata": {},
   "outputs": [
    {
     "name": "stderr",
     "output_type": "stream",
     "text": [
      "c:\\Users\\abhij\\AppData\\Local\\Programs\\Python\\Python312\\Lib\\site-packages\\gym\\utils\\passive_env_checker.py:233: DeprecationWarning: `np.bool8` is a deprecated alias for `np.bool_`.  (Deprecated NumPy 1.24)\n",
      "  if not isinstance(terminated, (bool, np.bool8)):\n"
     ]
    },
    {
     "name": "stdout",
     "output_type": "stream",
     "text": [
      "Episode: 1/10, Score: 170.0\n",
      "Episode: 2/10, Score: 202.0\n",
      "Episode: 3/10, Score: 385.0\n",
      "Episode: 4/10, Score: 493.0\n",
      "Episode: 5/10, Score: 251.0\n",
      "Episode: 6/10, Score: 288.0\n",
      "Episode: 7/10, Score: 139.0\n",
      "Episode: 8/10, Score: 144.0\n",
      "Episode: 9/10, Score: 306.0\n",
      "Episode: 10/10, Score: 144.0\n",
      "Average Reward over 10 episodes: 252.2\n"
     ]
    },
    {
     "data": {
      "text/plain": [
       "([170.0, 202.0, 385.0, 493.0, 251.0, 288.0, 139.0, 144.0, 306.0, 144.0], 252.2)"
      ]
     },
     "execution_count": 11,
     "metadata": {},
     "output_type": "execute_result"
    }
   ],
   "source": [
    "# Load and evaluate the model\n",
    "agent.load(output_dir + 'model-50.weights.pth')\n",
    "\n",
    "# Evaluate the agent\n",
    "evaluate_agent(agent, env)"
   ]
  },
  {
   "cell_type": "code",
   "execution_count": 12,
   "metadata": {},
   "outputs": [
    {
     "name": "stdout",
     "output_type": "stream",
     "text": [
      "Episode: 1/10, Score: 123.0\n",
      "Episode: 2/10, Score: 122.0\n",
      "Episode: 3/10, Score: 130.0\n",
      "Episode: 4/10, Score: 118.0\n",
      "Episode: 5/10, Score: 121.0\n",
      "Episode: 6/10, Score: 119.0\n",
      "Episode: 7/10, Score: 132.0\n",
      "Episode: 8/10, Score: 126.0\n",
      "Episode: 9/10, Score: 119.0\n",
      "Episode: 10/10, Score: 120.0\n",
      "Average Reward over 10 episodes: 123.0\n"
     ]
    },
    {
     "data": {
      "text/plain": [
       "([123.0, 122.0, 130.0, 118.0, 121.0, 119.0, 132.0, 126.0, 119.0, 120.0], 123.0)"
      ]
     },
     "execution_count": 12,
     "metadata": {},
     "output_type": "execute_result"
    }
   ],
   "source": [
    "# Load and evaluate the model\n",
    "agent.load(output_dir + 'model-100.weights.pth')\n",
    "\n",
    "# Evaluate the agent\n",
    "evaluate_agent(agent, env)"
   ]
  },
  {
   "cell_type": "code",
   "execution_count": 13,
   "metadata": {},
   "outputs": [
    {
     "name": "stdout",
     "output_type": "stream",
     "text": [
      "Episode: 1/10, Score: 700.0\n",
      "Episode: 2/10, Score: 700.0\n",
      "Episode: 3/10, Score: 700.0\n",
      "Episode: 4/10, Score: 700.0\n",
      "Episode: 5/10, Score: 700.0\n",
      "Episode: 6/10, Score: 700.0\n",
      "Episode: 7/10, Score: 700.0\n",
      "Episode: 8/10, Score: 700.0\n",
      "Episode: 9/10, Score: 700.0\n",
      "Episode: 10/10, Score: 700.0\n",
      "Average Reward over 10 episodes: 700.0\n"
     ]
    },
    {
     "data": {
      "text/plain": [
       "([700.0, 700.0, 700.0, 700.0, 700.0, 700.0, 700.0, 700.0, 700.0, 700.0], 700.0)"
      ]
     },
     "execution_count": 13,
     "metadata": {},
     "output_type": "execute_result"
    }
   ],
   "source": [
    "# Load and evaluate the model\n",
    "agent.load(output_dir + 'model-150.weights.pth')\n",
    "\n",
    "# Evaluate the agent\n",
    "evaluate_agent(agent, env)"
   ]
  },
  {
   "cell_type": "code",
   "execution_count": 14,
   "metadata": {},
   "outputs": [
    {
     "name": "stdout",
     "output_type": "stream",
     "text": [
      "Episode: 1/10, Score: 700.0\n",
      "Episode: 2/10, Score: 700.0\n",
      "Episode: 3/10, Score: 700.0\n",
      "Episode: 4/10, Score: 700.0\n",
      "Episode: 5/10, Score: 700.0\n",
      "Episode: 6/10, Score: 700.0\n",
      "Episode: 7/10, Score: 700.0\n",
      "Episode: 8/10, Score: 700.0\n",
      "Episode: 9/10, Score: 700.0\n",
      "Episode: 10/10, Score: 700.0\n",
      "Average Reward over 10 episodes: 700.0\n"
     ]
    },
    {
     "data": {
      "text/plain": [
       "([700.0, 700.0, 700.0, 700.0, 700.0, 700.0, 700.0, 700.0, 700.0, 700.0], 700.0)"
      ]
     },
     "execution_count": 14,
     "metadata": {},
     "output_type": "execute_result"
    }
   ],
   "source": [
    "# Load and evaluate the model\n",
    "agent = DQNAgent()\n",
    "agent.load(output_dir + 'model-200.weights.pth')\n",
    "\n",
    "# Evaluate the agent\n",
    "evaluate_agent(agent, env)"
   ]
  },
  {
   "cell_type": "markdown",
   "metadata": {},
   "source": [
    "There is consistent high output because we have turned exploration off and exploited the values."
   ]
  }
 ],
 "metadata": {
  "kernelspec": {
   "display_name": "Python 3",
   "language": "python",
   "name": "python3"
  },
  "language_info": {
   "codemirror_mode": {
    "name": "ipython",
    "version": 3
   },
   "file_extension": ".py",
   "mimetype": "text/x-python",
   "name": "python",
   "nbconvert_exporter": "python",
   "pygments_lexer": "ipython3",
   "version": "3.12.1"
  }
 },
 "nbformat": 4,
 "nbformat_minor": 2
}
